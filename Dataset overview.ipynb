{
 "cells": [
  {
   "cell_type": "markdown",
   "metadata": {},
   "source": [
    "## Imports and setup"
   ]
  },
  {
   "cell_type": "code",
   "execution_count": 1,
   "metadata": {},
   "outputs": [],
   "source": [
    "import tensorflow as tf\n",
    "\n",
    "import numpy as np\n",
    "import matplotlib.pyplot as plt\n",
    "import matplotlib.image as mpimg\n",
    "import pickle as pkl\n",
    "\n",
    "from tensorflow.examples.tutorials.mnist import input_data\n",
    "\n",
    "import h5py\n",
    "\n",
    "import scipy.io\n",
    "from PIL import Image"
   ]
  },
  {
   "cell_type": "markdown",
   "metadata": {},
   "source": [
    "# MNIST overview"
   ]
  },
  {
   "cell_type": "code",
   "execution_count": 2,
   "metadata": {},
   "outputs": [
    {
     "name": "stdout",
     "output_type": "stream",
     "text": [
      "WARNING:tensorflow:From <ipython-input-2-695fec6467cf>:1: read_data_sets (from tensorflow.contrib.learn.python.learn.datasets.mnist) is deprecated and will be removed in a future version.\n",
      "Instructions for updating:\n",
      "Please use alternatives such as official/mnist/dataset.py from tensorflow/models.\n",
      "WARNING:tensorflow:From c:\\users\\dario\\downloads\\gitprojects\\tf-dann\\venv\\lib\\site-packages\\tensorflow\\contrib\\learn\\python\\learn\\datasets\\mnist.py:260: maybe_download (from tensorflow.contrib.learn.python.learn.datasets.base) is deprecated and will be removed in a future version.\n",
      "Instructions for updating:\n",
      "Please write your own downloading logic.\n",
      "WARNING:tensorflow:From c:\\users\\dario\\downloads\\gitprojects\\tf-dann\\venv\\lib\\site-packages\\tensorflow\\contrib\\learn\\python\\learn\\datasets\\mnist.py:262: extract_images (from tensorflow.contrib.learn.python.learn.datasets.mnist) is deprecated and will be removed in a future version.\n",
      "Instructions for updating:\n",
      "Please use tf.data to implement this functionality.\n",
      "Extracting MNIST_data\\train-images-idx3-ubyte.gz\n",
      "WARNING:tensorflow:From c:\\users\\dario\\downloads\\gitprojects\\tf-dann\\venv\\lib\\site-packages\\tensorflow\\contrib\\learn\\python\\learn\\datasets\\mnist.py:267: extract_labels (from tensorflow.contrib.learn.python.learn.datasets.mnist) is deprecated and will be removed in a future version.\n",
      "Instructions for updating:\n",
      "Please use tf.data to implement this functionality.\n",
      "Extracting MNIST_data\\train-labels-idx1-ubyte.gz\n",
      "WARNING:tensorflow:From c:\\users\\dario\\downloads\\gitprojects\\tf-dann\\venv\\lib\\site-packages\\tensorflow\\contrib\\learn\\python\\learn\\datasets\\mnist.py:110: dense_to_one_hot (from tensorflow.contrib.learn.python.learn.datasets.mnist) is deprecated and will be removed in a future version.\n",
      "Instructions for updating:\n",
      "Please use tf.one_hot on tensors.\n",
      "Extracting MNIST_data\\t10k-images-idx3-ubyte.gz\n",
      "Extracting MNIST_data\\t10k-labels-idx1-ubyte.gz\n",
      "WARNING:tensorflow:From c:\\users\\dario\\downloads\\gitprojects\\tf-dann\\venv\\lib\\site-packages\\tensorflow\\contrib\\learn\\python\\learn\\datasets\\mnist.py:290: DataSet.__init__ (from tensorflow.contrib.learn.python.learn.datasets.mnist) is deprecated and will be removed in a future version.\n",
      "Instructions for updating:\n",
      "Please use alternatives such as official/mnist/dataset.py from tensorflow/models.\n",
      "The training set is:\n",
      "(55000, 784)\n",
      "The validation set is:\n",
      "(5000, 784)\n",
      "Reshape image\n",
      "(28, 28)\n"
     ]
    },
    {
     "data": {
      "text/plain": [
       "<matplotlib.image.AxesImage at 0x21d8f513e80>"
      ]
     },
     "execution_count": 2,
     "metadata": {},
     "output_type": "execute_result"
    },
    {
     "data": {
      "image/png": "[encoded data removed]",
      "text/plain": [
       "<Figure size 432x288 with 1 Axes>"
      ]
     },
     "metadata": {
      "needs_background": "light"
     },
     "output_type": "display_data"
    }
   ],
   "source": [
    "mnist = input_data.read_data_sets('MNIST_data',one_hot=True)\n",
    "print(\"The training set is:\")\n",
    "print(mnist.train.images.shape)\n",
    "print(\"The validation set is:\")\n",
    "print(mnist.validation.images.shape)\n",
    "\n",
    "# De-flatten\n",
    "one_image_mnist = np.reshape(mnist.train.images[29],[28,28])\n",
    "print(\"Reshape image\")\n",
    "print(one_image_mnist.shape)\n",
    "\n",
    "plt.imshow(one_image_mnist, cmap=\"Greys_r\")"
   ]
  },
  {
   "cell_type": "markdown",
   "metadata": {},
   "source": [
    "# USPS Overview"
   ]
  },
  {
   "cell_type": "code",
   "execution_count": 3,
   "metadata": {},
   "outputs": [
    {
     "name": "stdout",
     "output_type": "stream",
     "text": [
      "Training values shape\n",
      "(7291, 256)\n",
      "Training labels shape\n",
      "(7291,)\n",
      "Testing values shape\n",
      "(2007, 256)\n",
      "Testing labels shape\n",
      "(2007,)\n",
      "Reshape image\n",
      "(16, 16)\n"
     ]
    },
    {
     "data": {
      "text/plain": [
       "<matplotlib.image.AxesImage at 0x21d8f5acd68>"
      ]
     },
     "execution_count": 3,
     "metadata": {},
     "output_type": "execute_result"
    },
    {
     "data": {
      "image/png": "[encoded data removed]",
      "text/plain": [
       "<Figure size 432x288 with 1 Axes>"
      ]
     },
     "metadata": {
      "needs_background": "light"
     },
     "output_type": "display_data"
    }
   ],
   "source": [
    "path = \"Datasets/usps/usps.h5\"\n",
    "with h5py.File(path, 'r') as hf:\n",
    "        train = hf.get('train')\n",
    "        X_tr = train.get('data')[:]\n",
    "        y_tr = train.get('target')[:]\n",
    "        test = hf.get('test')\n",
    "        X_te = test.get('data')[:]\n",
    "        y_te = test.get('target')[:]\n",
    "print(\"Training values shape\")\n",
    "print(X_tr.shape)\n",
    "print(\"Training labels shape\")\n",
    "print(y_tr.shape)\n",
    "print(\"Testing values shape\")\n",
    "print(X_te.shape)\n",
    "print(\"Testing labels shape\")\n",
    "print(y_te.shape)\n",
    "\n",
    "one_img_usps = np.reshape(X_tr[0],[16,16])\n",
    "print(\"Reshape image\")\n",
    "print(one_img_usps.shape)\n",
    "\n",
    "plt.imshow(one_img_usps, cmap=\"Greys_r\")"
   ]
  },
  {
   "cell_type": "markdown",
   "metadata": {},
   "source": [
    "# SVHN Overview"
   ]
  },
  {
   "cell_type": "code",
   "execution_count": 12,
   "metadata": {},
   "outputs": [
    {
     "name": "stdout",
     "output_type": "stream",
     "text": [
      "Raw Data Test\n",
      "(32, 32, 3, 26032)\n",
      "Raw Data Train\n",
      "(32, 32, 3, 73257)\n",
      "Reshape image\n",
      "(32, 32, 3)\n"
     ]
    },
    {
     "data": {
      "text/plain": [
       "<matplotlib.image.AxesImage at 0x21d925ac940>"
      ]
     },
     "execution_count": 12,
     "metadata": {},
     "output_type": "execute_result"
    },
    {
     "data": {
      "image/png": "[encoded data removed]",
      "text/plain": [
       "<Figure size 432x288 with 1 Axes>"
      ]
     },
     "metadata": {
      "needs_background": "light"
     },
     "output_type": "display_data"
    }
   ],
   "source": [
    "svhn_file = \"Datasets/svhn/test_32x32.mat\"\n",
    "svhn_file_train = \"Datasets/svhn/train_32x32.mat\"\n",
    "mat = scipy.io.loadmat(svhn_file)\n",
    "mat_train = scipy.io.loadmat(svhn_file_train)\n",
    "print(\"Raw Data Test\")\n",
    "print(mat['X'].shape)\n",
    "print(\"Raw Data Train\")\n",
    "print(mat_train['X'].shape)\n",
    "#svhn_data = np.reshape(mat['X'],[32,32])\n",
    "one_img_svhn = mat['X'][:,:,:,0]\n",
    "print(\"Reshape image\")\n",
    "print(one_img_svhn.shape)\n",
    "#data = np.zeros((32,32,3),dtype=np.uint8)\n",
    "#data[32,32] = mat['X'][:][:][:][0]\n",
    "\n",
    "plt.imshow(one_img_svhn)"
   ]
  },
  {
   "cell_type": "markdown",
   "metadata": {},
   "source": [
    "# SynthDigits Overview"
   ]
  },
  {
   "cell_type": "code",
   "execution_count": 14,
   "metadata": {},
   "outputs": [
    {
     "name": "stdout",
     "output_type": "stream",
     "text": [
      "Raw Data Test\n",
      "(32, 32, 3, 9553)\n",
      "Raw Data Train\n",
      "(32, 32, 3, 479400)\n",
      "Reshape image\n",
      "(32, 32, 3)\n"
     ]
    },
    {
     "data": {
      "text/plain": [
       "<matplotlib.image.AxesImage at 0x21d92617048>"
      ]
     },
     "execution_count": 14,
     "metadata": {},
     "output_type": "execute_result"
    },
    {
     "data": {
      "image/png": "[encoded data removed]",
      "text/plain": [
       "<Figure size 432x288 with 1 Axes>"
      ]
     },
     "metadata": {
      "needs_background": "light"
     },
     "output_type": "display_data"
    }
   ],
   "source": [
    "synth_file = \"Datasets/SynthDigits/synth_test_32x32.mat\"\n",
    "synth_file_train = \"Datasets/SynthDigits/synth_train_32x32.mat\"\n",
    "synthmat = scipy.io.loadmat(synth_file)\n",
    "synthmat_train = scipy.io.loadmat(synth_file_train)\n",
    "print(\"Raw Data Test\")\n",
    "print(synthmat['X'].shape)\n",
    "print(\"Raw Data Train\")\n",
    "print(synthmat_train['X'].shape)\n",
    "\n",
    "one_img_synth = synthmat['X'][:,:,:,0]\n",
    "print(\"Reshape image\")\n",
    "print(one_img_synth.shape)\n",
    "#data = np.zeros((32,32,3),dtype=np.uint8)\n",
    "#data[32,32] = mat['X'][:][:][:][0]\n",
    "\n",
    "plt.imshow(one_img_synth)"
   ]
  },
  {
   "cell_type": "markdown",
   "metadata": {},
   "source": [
    "# MNIST M"
   ]
  },
  {
   "cell_type": "code",
   "execution_count": 16,
   "metadata": {},
   "outputs": [
    {
     "name": "stdout",
     "output_type": "stream",
     "text": [
      "(55000, 28, 28, 3)\n",
      "(10000, 28, 28, 3)\n",
      "(5000, 28, 28, 3)\n"
     ]
    },
    {
     "data": {
      "text/plain": [
       "<matplotlib.image.AxesImage at 0x21d926c0f28>"
      ]
     },
     "execution_count": 16,
     "metadata": {},
     "output_type": "execute_result"
    },
    {
     "data": {
      "image/png": "[encoded data removed]",
      "text/plain": [
       "<Figure size 432x288 with 1 Axes>"
      ]
     },
     "metadata": {
      "needs_background": "light"
     },
     "output_type": "display_data"
    }
   ],
   "source": [
    "mnistm = pkl.load(open('mnistm_data.pkl', 'rb'))\n",
    "mnistm_train = mnistm['train']\n",
    "mnistm_test = mnistm['test']\n",
    "mnistm_valid = mnistm['valid']\n",
    "\n",
    "print(mnistm_train.shape)\n",
    "print(mnistm_test.shape)\n",
    "print(mnistm_valid.shape)\n",
    "\n",
    "plt.imshow(mnistm_train[8])"
   ]
  }
 ],
 "metadata": {
  "kernelspec": {
   "display_name": "Python 3",
   "language": "python",
   "name": "python3"
  },
  "language_info": {
   "codemirror_mode": {
    "name": "ipython",
    "version": 3
   },
   "file_extension": ".py",
   "mimetype": "text/x-python",
   "name": "python",
   "nbconvert_exporter": "python",
   "pygments_lexer": "ipython3",
   "version": "3.6.6"
  }
 },
 "nbformat": 4,
 "nbformat_minor": 2
}
